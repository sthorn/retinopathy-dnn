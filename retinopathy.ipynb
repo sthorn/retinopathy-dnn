{
 "cells": [
  {
   "cell_type": "markdown",
   "metadata": {},
   "source": [
    "# Classification of Diabetic Retinopathy with Deep Learning\n",
    "---"
   ]
  },
  {
   "cell_type": "markdown",
   "metadata": {},
   "source": [
    "A deep convolutional neural network based on [ResNet-34](https://arxiv.org/abs/1512.03385) to classify levels of diabetic retinopathy. \n",
    "\n",
    "The network has a sensitivity of 91.6 % and a specificity of 82.5 % for the binary task of classifying referable diabetic retinopathy. "
   ]
  },
  {
   "cell_type": "markdown",
   "metadata": {},
   "source": [
    "## Setup "
   ]
  },
  {
   "cell_type": "markdown",
   "metadata": {},
   "source": [
    "### Load libraries "
   ]
  },
  {
   "cell_type": "code",
   "execution_count": 1,
   "metadata": {
    "collapsed": true
   },
   "outputs": [],
   "source": [
    "%reload_ext autoreload\n",
    "%autoreload 2\n",
    "%matplotlib inline"
   ]
  },
  {
   "cell_type": "markdown",
   "metadata": {},
   "source": [
    "I am using the excellent [fastai](https://github.com/fastai/fastai) library, which uses [PyTorch](http://pytorch.org/)."
   ]
  },
  {
   "cell_type": "code",
   "execution_count": 2,
   "metadata": {
    "collapsed": true
   },
   "outputs": [],
   "source": [
    "from fastai.imports import *\n",
    "from fastai.transforms import *\n",
    "from fastai.conv_learner import *\n",
    "from fastai.model import *\n",
    "from fastai.dataset import *\n",
    "from fastai.sgdr import *\n",
    "from fastai.plots import *"
   ]
  },
  {
   "cell_type": "code",
   "execution_count": 3,
   "metadata": {
    "collapsed": true
   },
   "outputs": [],
   "source": [
    "### Is this needed?\n",
    "from sklearn.metrics import confusion_matrix\n",
    "from sklearn.metrics import roc_curve, roc_auc_score"
   ]
  },
  {
   "cell_type": "markdown",
   "metadata": {},
   "source": [
    "Check that CUDA and cuDNN are available:"
   ]
  },
  {
   "cell_type": "code",
   "execution_count": 4,
   "metadata": {
    "collapsed": false
   },
   "outputs": [
    {
     "data": {
      "text/plain": [
       "True"
      ]
     },
     "execution_count": 4,
     "metadata": {},
     "output_type": "execute_result"
    }
   ],
   "source": [
    "torch.cuda.is_available()"
   ]
  },
  {
   "cell_type": "code",
   "execution_count": 5,
   "metadata": {
    "collapsed": false
   },
   "outputs": [
    {
     "data": {
      "text/plain": [
       "True"
      ]
     },
     "execution_count": 5,
     "metadata": {},
     "output_type": "execute_result"
    }
   ],
   "source": [
    "torch.backends.cudnn.enabled"
   ]
  },
  {
   "cell_type": "markdown",
   "metadata": {},
   "source": [
    "## Data"
   ]
  },
  {
   "cell_type": "markdown",
   "metadata": {},
   "source": [
    "The [Kaggle diabetic retinopathy](https://www.kaggle.com/c/diabetic-retinopathy-detection) dataset contains 35126 labelled images already organised into directories named according to the level of diabetic retinopathy (0,1,2,3 & 4). These numeric levels correspond to no diabetic retinopathy (0); mild retinopathy (1); moderate (2); severe (3) and proliferative (4)."
   ]
  },
  {
   "cell_type": "markdown",
   "metadata": {},
   "source": [
    "### Validation set \n",
    "I created a validation set of 3512 (10 %) images by selecting images at random in a way that preserves the class ratios."
   ]
  },
  {
   "cell_type": "markdown",
   "metadata": {},
   "source": [
    "### Balance data\n",
    "The dataset is unbalanced. The number of images in each class (after removal of the validation set images) is 23184 (class 0); 2189 (1); 4811 (2); 781 (3) and 649 (4). \n",
    "\n",
    "To balance the dataset, I created copies (symbolic links) of the images in the minority classes (1,2,3 and 4) so that these classes each contained approximately 5000 images. I didn't fully balance the dataset as the number of images (5 * 23184) would have been too large to train in a reasonable time.\n",
    "\n",
    "As the model is trained on augmented images this duplication should not present too much of an issue as the network never sees the same image twice."
   ]
  },
  {
   "cell_type": "markdown",
   "metadata": {},
   "source": [
    "Path to the data. I use `/dev/shm` for speed."
   ]
  },
  {
   "cell_type": "code",
   "execution_count": 6,
   "metadata": {
    "collapsed": true
   },
   "outputs": [],
   "source": [
    "PATH = \"/dev/shm/data/retinopathy/\""
   ]
  },
  {
   "cell_type": "markdown",
   "metadata": {},
   "source": [
    "## Model"
   ]
  },
  {
   "cell_type": "code",
   "execution_count": 7,
   "metadata": {
    "collapsed": true
   },
   "outputs": [],
   "source": [
    "arch = resnet34\n",
    "image_size = 512\n",
    "batch_size = 32"
   ]
  },
  {
   "cell_type": "markdown",
   "metadata": {},
   "source": [
    "### Data augmentation\n",
    "Centre crop with 10-20 % random zoom; random rotatation of up to $10^\\circ$. Random left-right flip. 50 % of images are slightly blurred."
   ]
  },
  {
   "cell_type": "code",
   "execution_count": 8,
   "metadata": {
    "collapsed": true
   },
   "outputs": [],
   "source": [
    "min_size = int(1.1 * image_size)\n",
    "aug_tfms=[RandomRotate(10, p=1.0), \n",
    "          RandomBlur([3,5], probability=0.5),\n",
    "          RandomScale(sz=min_size, max_zoom=1.1, p=1.0),\n",
    "          RandomFlip()]\n",
    "tfms = tfms_from_model(arch, sz=image_size, aug_tfms=aug_tfms, crop_type=CropType.CENTER)"
   ]
  },
  {
   "cell_type": "markdown",
   "metadata": {},
   "source": [
    "### Setup model "
   ]
  },
  {
   "cell_type": "code",
   "execution_count": 9,
   "metadata": {
    "collapsed": true
   },
   "outputs": [],
   "source": [
    "# Choose num_workers according to the number of CPU cores.\n",
    "data = ImageClassifierData.from_paths(PATH, bs=batch_size, tfms=tfms, num_workers=16)\n",
    "p_dropout = [0.4, 0.7]\n",
    "learn = ConvLearner.pretrained(arch, data, ps=p_dropout, precompute=False)"
   ]
  },
  {
   "cell_type": "markdown",
   "metadata": {},
   "source": [
    "## Learning rate\n",
    "A relatively high learning rate of 0.1 was found to work well."
   ]
  },
  {
   "cell_type": "code",
   "execution_count": 10,
   "metadata": {
    "collapsed": true
   },
   "outputs": [],
   "source": [
    "lr = 1e-1"
   ]
  },
  {
   "cell_type": "markdown",
   "metadata": {},
   "source": [
    "## Train last layers "
   ]
  },
  {
   "cell_type": "markdown",
   "metadata": {},
   "source": [
    "Train the last layers with cosine annealing. (Note that fastai's default metric of accuracy is not the best choice for an unbalanced classification task. Better metrics are used later on)."
   ]
  },
  {
   "cell_type": "code",
   "execution_count": 11,
   "metadata": {
    "collapsed": false
   },
   "outputs": [
    {
     "name": "stdout",
     "output_type": "stream",
     "text": [
      "epoch      trn_loss   val_loss   accuracy                     \n",
      "    0      1.126905   0.816475   0.742992  \n",
      "    1      1.083118   0.791961   0.745833                     \n",
      "    2      1.071215   0.793367   0.745265                     \n",
      "    3      1.072228   0.783937   0.741667                     \n",
      "    4      1.053596   0.765592   0.748958                     \n",
      "    5      1.04541    0.777031   0.746117                     \n",
      "    6      1.052934   0.773506   0.745833                      \n"
     ]
    }
   ],
   "source": [
    "learn.fit(lr, 3, cycle_len=1, cycle_mult=2)"
   ]
  },
  {
   "cell_type": "markdown",
   "metadata": {},
   "source": [
    "## Train whole model "
   ]
  },
  {
   "cell_type": "markdown",
   "metadata": {},
   "source": [
    "Train the whole model with differential learning rates: a lower learning rate for the first layers, higher for the middle layers and higher still for the last layers.  "
   ]
  },
  {
   "cell_type": "code",
   "execution_count": 12,
   "metadata": {
    "collapsed": true
   },
   "outputs": [],
   "source": [
    "# Unfreeze the model to allow training of all layers\n",
    "learn.unfreeze()"
   ]
  },
  {
   "cell_type": "code",
   "execution_count": 13,
   "metadata": {
    "collapsed": true
   },
   "outputs": [],
   "source": [
    "lrs = [lr/9, lr/3, lr]"
   ]
  },
  {
   "cell_type": "code",
   "execution_count": 14,
   "metadata": {
    "collapsed": false
   },
   "outputs": [
    {
     "name": "stdout",
     "output_type": "stream",
     "text": [
      "epoch      trn_loss   val_loss   accuracy                      \n",
      "    0      0.536409   0.554196   0.823295  \n",
      "    1      0.639725   0.566161   0.82017                       \n",
      "    2      0.488599   0.540165   0.827367                      \n",
      "    3      0.743436   0.644611   0.779735                      \n",
      "    4      0.57691    0.566614   0.826515                      \n",
      "    5      0.457763   0.532606   0.833523                      \n",
      "    6      0.430851   0.548231   0.831345                      \n"
     ]
    }
   ],
   "source": [
    "learn.fit(lr, 3, cycle_len=1, cycle_mult=2)"
   ]
  },
  {
   "cell_type": "markdown",
   "metadata": {},
   "source": [
    "## Model performance "
   ]
  },
  {
   "cell_type": "markdown",
   "metadata": {},
   "source": [
    "### Test time augmentation\n",
    "Use test time augmentation to improve predictions. "
   ]
  },
  {
   "cell_type": "code",
   "execution_count": 15,
   "metadata": {
    "collapsed": false
   },
   "outputs": [
    {
     "name": "stdout",
     "output_type": "stream",
     "text": [
      "                                             \r"
     ]
    }
   ],
   "source": [
    "# Use four augmentations\n",
    "log_preds, y = learn.TTA(n_aug=4)\n",
    "\n",
    "# Average over the augmentations\n",
    "probs = np.mean(np.exp(log_preds), axis=0)\n",
    "preds = np.argmax(probs, axis=1)"
   ]
  },
  {
   "cell_type": "markdown",
   "metadata": {},
   "source": [
    "### Confusion matrix "
   ]
  },
  {
   "cell_type": "code",
   "execution_count": 16,
   "metadata": {
    "collapsed": false
   },
   "outputs": [
    {
     "name": "stdout",
     "output_type": "stream",
     "text": [
      "[[2552   43   28    2    1]\n",
      " [ 178   54   22    0    0]\n",
      " [ 129   51  254   37   10]\n",
      " [   2    3   34   47    6]\n",
      " [   6    1   15    9   28]]\n"
     ]
    },
    {
     "data": {
      "image/png": "[encoded data removed]",
      "text/plain": [
       "<matplotlib.figure.Figure at 0x7f7371f010f0>"
      ]
     },
     "metadata": {},
     "output_type": "display_data"
    }
   ],
   "source": [
    "plot_confusion_matrix(confusion_matrix(y, preds), classes=data.classes);"
   ]
  },
  {
   "cell_type": "markdown",
   "metadata": {},
   "source": [
    "The model really excels at not mistaking cases of mild (1) or no (1) retinopathy for severe forms: only 0.1 % of these cases are predicted to be severe (3) or proliferative (4) — see top right of the confusion matrix. The model also does well in the other corner: 92 % of severe (3) and proliferative (4) cases are predicted to be moderate or worse.\n",
    "\n",
    "The model is less good at identifying moderate (2) cases, often mistaking these for other levels. Mild (1) and no (0) cases are also often mistaken for moderate (2)."
   ]
  },
  {
   "cell_type": "markdown",
   "metadata": {},
   "source": [
    "### Referable diabetic retinopathy"
   ]
  },
  {
   "cell_type": "markdown",
   "metadata": {},
   "source": [
    "We can group the five classes of retinopathy into 'referable' (moderate or worse retinopathy) and 'non-referable' (mild or no retinopathy) and look at the ROC curve for this binary classification."
   ]
  },
  {
   "cell_type": "code",
   "execution_count": 17,
   "metadata": {
    "collapsed": true
   },
   "outputs": [],
   "source": [
    "# Split off referable retinopathy (classes 2,3 & 4) and recombine with stack\n",
    "# e.g. want [0.1,0.2,0.2,0.3,0.2] -> [0.1+0.2, 0.2+0.3+0.2] = [0.3, 0.7]\n",
    "p_non_referable = np.sum(probs[:,0:2], axis=1)\n",
    "p_referable = np.sum(probs[:,2:], axis=1)\n",
    "probs_referable = np.stack([p_non_referable, p_referrable], axis=1)"
   ]
  },
  {
   "cell_type": "code",
   "execution_count": 18,
   "metadata": {
    "collapsed": true
   },
   "outputs": [],
   "source": [
    "# Do the same for the true and predicted labels\n",
    "y_referable = 1*(y >= 2)\n",
    "y_referable_preds = np.argmax(probs_referable, axis=1)"
   ]
  },
  {
   "cell_type": "code",
   "execution_count": 19,
   "metadata": {
    "collapsed": true
   },
   "outputs": [],
   "source": [
    "# Calculate ROC curve\n",
    "fpr, tpr, thresholds = roc_curve(y_referable, probs_referable[:,1], pos_label=1)\n",
    "auc = roc_auc_score(y_referable, probs_referable[:,1])"
   ]
  },
  {
   "cell_type": "code",
   "execution_count": 20,
   "metadata": {
    "collapsed": true
   },
   "outputs": [],
   "source": [
    "# Two points selected for high specificity and high sensitivity by examining the tpr and fpr arrays.\n",
    "idx = [209, 275]"
   ]
  },
  {
   "cell_type": "code",
   "execution_count": 21,
   "metadata": {
    "collapsed": false,
    "scrolled": false
   },
   "outputs": [
    {
     "data": {
      "image/png": "[encoded data removed]",
      "text/plain": [
       "<matplotlib.figure.Figure at 0x7f732df2f320>"
      ]
     },
     "metadata": {},
     "output_type": "display_data"
    }
   ],
   "source": [
    "# Plot ROC curve\n",
    "plt.figure(figsize=(8,8))\n",
    "plt.plot(fpr, tpr, color='darkgray', lw=1)\n",
    "plt.xlim([0.0, 1.01])\n",
    "plt.ylim([0.0, 1.0])\n",
    "plt.xticks(np.linspace(0,1,11))\n",
    "plt.yticks(np.linspace(0,1,11))\n",
    "plt.xlabel('1 - Specificity')\n",
    "plt.ylabel('Sensitivity')\n",
    "for i in idx:\n",
    "    plt.plot(fpr[i], tpr[i], marker='+', markersize=16, \n",
    "             label=f'Sensitivity: {tpr[i]:.3}, Specificity: {1-fpr[i]:.3}')\n",
    "#plt.plot(fpr[275], tpr[275], marker='+', color='g', markersize=16, label='blah')\n",
    "plt.title(f'ROC Curve (AUC = {auc:.2})')\n",
    "plt.legend(loc='lower right');"
   ]
  },
  {
   "cell_type": "markdown",
   "metadata": {},
   "source": [
    "## Conclusion\n",
    "For just a few lines of code we have a model that performs resonably well. Deeper networks e.g. ResNet networks with more layers and larger image sizes are likely to improve performance. However, I would like to try an attentional-based model next (e.g. like https://arxiv.org/pdf/1704.03549). \n",
    "\n",
    "Much of the difference between the levels of retionpathy is in the fine detail (blood vessels, aneurysms, etc.). A model that identifies regions of interest in the retinal image and feeds these regions to a CNN that has been trained on the fine detail could well improve on classification performance. It may also be faster to train as fewer of the pixels need to be passed through the CNN."
   ]
  },
  {
   "cell_type": "markdown",
   "metadata": {},
   "source": [
    "---"
   ]
  }
 ],
 "metadata": {
  "kernelspec": {
   "display_name": "Python 3",
   "language": "python",
   "name": "python3"
  },
  "language_info": {
   "codemirror_mode": {
    "name": "ipython",
    "version": 3
   },
   "file_extension": ".py",
   "mimetype": "text/x-python",
   "name": "python",
   "nbconvert_exporter": "python",
   "pygments_lexer": "ipython3",
   "version": "3.5.2"
  },
  "toc": {
   "colors": {
    "hover_highlight": "#DAA520",
    "navigate_num": "#000000",
    "navigate_text": "#333333",
    "running_highlight": "#FF0000",
    "selected_highlight": "#FFD700",
    "sidebar_border": "#EEEEEE",
    "wrapper_background": "#FFFFFF"
   },
   "moveMenuLeft": true,
   "nav_menu": {
    "height": "266px",
    "width": "252px"
   },
   "navigate_menu": true,
   "number_sections": true,
   "sideBar": true,
   "threshold": 4,
   "toc_cell": false,
   "toc_section_display": "block",
   "toc_window_display": false,
   "widenNotebook": false
  }
 },
 "nbformat": 4,
 "nbformat_minor": 2
}
